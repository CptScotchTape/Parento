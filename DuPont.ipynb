{
  "nbformat": 4,
  "nbformat_minor": 0,
  "metadata": {
    "colab": {
      "name": "DuPont.ipynb",
      "provenance": [],
      "authorship_tag": "ABX9TyPMWlPuizM8cgDIq/tqRHWV",
      "include_colab_link": true
    },
    "kernelspec": {
      "name": "python3",
      "display_name": "Python 3"
    },
    "language_info": {
      "name": "python"
    }
  },
  "cells": [
    {
      "cell_type": "markdown",
      "metadata": {
        "id": "view-in-github",
        "colab_type": "text"
      },
      "source": [
        "<a href=\"https://colab.research.google.com/github/CptScotchTape/Parento/blob/main/DuPont.ipynb\" target=\"_parent\"><img src=\"https://colab.research.google.com/assets/colab-badge.svg\" alt=\"Open In Colab\"/></a>"
      ]
    },
    {
      "cell_type": "code",
      "execution_count": 28,
      "metadata": {
        "colab": {
          "base_uri": "https://localhost:8080/"
        },
        "id": "qSZuqyGnekiu",
        "outputId": "630cd959-662b-4091-8be0-7b5008e2c5b3"
      },
      "outputs": [
        {
          "output_type": "stream",
          "name": "stdout",
          "text": [
            "{'date': '2020-01-26', 'symbol': 'NVDA', 'reportedCurrency': 'USD', 'cik': '0001045810', 'fillingDate': '2020-02-20', 'acceptedDate': '2020-02-20 16:38:18', 'calendarYear': '2020', 'period': 'FY', 'cashAndCashEquivalents': 10896000000, 'shortTermInvestments': 1000000.0, 'cashAndShortTermInvestments': 10897000000, 'netReceivables': 1657000000, 'inventory': 979000000, 'otherCurrentAssets': 157000000, 'totalCurrentAssets': 13690000000, 'propertyPlantEquipmentNet': 2292000000, 'goodwill': 618000000, 'intangibleAssets': 49000000, 'goodwillAndIntangibleAssets': 667000000, 'longTermInvestments': 0.0, 'taxAssets': 29000000, 'otherNonCurrentAssets': 637000000, 'totalNonCurrentAssets': 3625000000, 'otherAssets': 0.0, 'totalAssets': 17315000000, 'accountPayables': 687000000, 'shortTermDebt': 91000000, 'taxPayables': 61000000, 'deferredRevenue': 548000000, 'otherCurrentLiabilities': 458000000, 'totalCurrentLiabilities': 1784000000, 'longTermDebt': 1991000000, 'deferredRevenueNonCurrent': 0.0, 'deferredTaxLiabilitiesNonCurrent': 0.0, 'otherNonCurrentLiabilities': 1336000000, 'totalNonCurrentLiabilities': 3327000000, 'otherLiabilities': 0.0, 'capitalLeaseObligations': 652000000, 'totalLiabilities': 5111000000, 'preferredStock': 0.0, 'commonStock': 1000000.0, 'retainedEarnings': 14971000000, 'accumulatedOtherComprehensiveIncomeLoss': 1000000.0, 'othertotalStockholdersEquity': -2769000000, 'totalStockholdersEquity': 12204000000, 'totalLiabilitiesAndStockholdersEquity': 17315000000, 'minorityInterest': 0, 'totalEquity': 12204000000, 'totalLiabilitiesAndTotalEquity': 17315000000, 'totalInvestments': 0.0, 'totalDebt': 2082000000, 'netDebt': -8814000000, 'link': 'https://www.sec.gov/Archives/edgar/data/1045810/000104581020000010/0001045810-20-000010-index.html', 'finalLink': 'https://www.sec.gov/Archives/edgar/data/1045810/000104581020000010/nvda-2020x10k.htm'}\n",
            "[0.2564375776949032, 0.22910521140609635, 0.44326696638835367, 0.40784366216035334, 0.2891357167650121]\n"
          ]
        }
      ],
      "source": [
        "import requests\n",
        "import pandas as pd\n",
        "\n",
        "myAPIKey = 'b957dca64c38d7f59b13584ecf5fd6ff'\n",
        "years = 5\n",
        "stock = 'NVDA'\n",
        "balanceStatements = requests.get(f\"https://financialmodelingprep.com/api/v3/balance-sheet-statement/{stock}?apikey={myAPIKey}\").json()\n",
        "\n",
        "incomeStatements = requests.get(f'https://financialmodelingprep.com/api/v3/income-statement/{stock}?apikey={myAPIKey}').json()\n",
        "\n",
        "print (balanceStatements[1])\n",
        "\n",
        "# the numbers from the two most recent years\n",
        "BalanceStatement = balanceStatements[:years]\n",
        "IncomeStatement = incomeStatements[:years]\n",
        "\n",
        "# calculate profitability, assetTurnover, and capitalStructure\n",
        "profitability= []\n",
        "assetTurnOver = []\n",
        "capitalStructure = []\n",
        "returnOnEquity = []\n",
        "# getting detials\n",
        "for i in range (0,years):\n",
        "  profitabilityValue=IncomeStatement[i]['netIncome']/IncomeStatement[i]['revenue']\n",
        "  profitability.append(profitabilityValue)\n",
        "  assetTurnOverValue=IncomeStatement[i]['revenue']/BalanceStatement[i]['totalAssets']\n",
        "  assetTurnOver.append(assetTurnOverValue)\n",
        "  capitalStructureValue=BalanceStatement[i]['totalAssets']/BalanceStatement[i]['totalStockholdersEquity']\n",
        "  capitalStructure.append(capitalStructureValue)\n",
        "  returnOnEquityValue=profitabilityValue*assetTurnOverValue*capitalStructureValue\n",
        "  returnOnEquity.append(returnOnEquityValue)\n",
        "\n",
        "print(returnOnEquity)\n",
        "\n"
      ]
    }
  ]
}